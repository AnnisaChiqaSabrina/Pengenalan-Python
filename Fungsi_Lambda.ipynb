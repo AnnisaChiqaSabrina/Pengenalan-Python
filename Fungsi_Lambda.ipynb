{
  "nbformat": 4,
  "nbformat_minor": 0,
  "metadata": {
    "colab": {
      "provenance": []
    },
    "kernelspec": {
      "name": "python3",
      "display_name": "Python 3"
    },
    "language_info": {
      "name": "python"
    }
  },
  "cells": [
    {
      "cell_type": "markdown",
      "source": [
        "Annisa Chiqa Sabrina (2000015030)_Kelas Dasar"
      ],
      "metadata": {
        "id": "ICZGboP8pWuH"
      }
    },
    {
      "cell_type": "markdown",
      "source": [
        "1. Fungsi Lambda untuk Menghitung Luas dari Persegi Panjang"
      ],
      "metadata": {
        "id": "VIlaDi8npck9"
      }
    },
    {
      "cell_type": "code",
      "execution_count": 4,
      "metadata": {
        "colab": {
          "base_uri": "https://localhost:8080/"
        },
        "id": "6KbKk8ztpHvw",
        "outputId": "32c267d1-c654-48a7-db89-8802d9659d1f"
      },
      "outputs": [
        {
          "output_type": "stream",
          "name": "stdout",
          "text": [
            "luas persegi panjang: 70\n"
          ]
        }
      ],
      "source": [
        "#Luas Persegi Panjang\n",
        "lpp= lambda p,l:p*l\n",
        "luas_persegi_panjang=lpp(10,7)\n",
        "print(\"luas persegi panjang:\",luas_persegi_panjang)"
      ]
    },
    {
      "cell_type": "markdown",
      "source": [
        "2. Fungsi Lambda untuk Menghitung Luas Segitiga"
      ],
      "metadata": {
        "id": "i6avmp8Oph1e"
      }
    },
    {
      "cell_type": "code",
      "source": [
        "#Luas Segitiga\n",
        "ls= lambda a,t:(a*t)/2\n",
        "luas_segitiga=ls(10,7)\n",
        "print(\"luas segitiga:\",luas_segitiga)\n"
      ],
      "metadata": {
        "colab": {
          "base_uri": "https://localhost:8080/"
        },
        "id": "IJIkldnApm3W",
        "outputId": "79d698a7-719e-4894-eef5-27cc74bf664c"
      },
      "execution_count": null,
      "outputs": [
        {
          "output_type": "stream",
          "name": "stdout",
          "text": [
            "luas segitiga: 35.0\n"
          ]
        }
      ]
    }
  ]
}