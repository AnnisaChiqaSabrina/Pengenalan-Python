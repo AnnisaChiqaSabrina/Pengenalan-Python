{
  "nbformat": 4,
  "nbformat_minor": 0,
  "metadata": {
    "colab": {
      "provenance": []
    },
    "kernelspec": {
      "name": "python3",
      "display_name": "Python 3"
    },
    "language_info": {
      "name": "python"
    }
  },
  "cells": [
    {
      "cell_type": "markdown",
      "source": [
        "Annisa Chiqa Sabrina (2000015030)\n",
        "\n",
        "Tugas Penggabungan Series atau DataFrame"
      ],
      "metadata": {
        "id": "EFeZAyzC_eZQ"
      }
    },
    {
      "cell_type": "code",
      "execution_count": null,
      "metadata": {
        "id": "wS85Jfoa_du3"
      },
      "outputs": [],
      "source": [
        "import pandas as pd"
      ]
    },
    {
      "cell_type": "code",
      "source": [
        "# Membuat series of int (s1) dan series of string (s2)\n",
        "s1= pd.Series([1,2,3,4,5,6])\n",
        "s2= pd.Series([\"a\",\"n\",\"i\",\"s\",\"c\",\"h\"])\n",
        "# Menerapkan method append\n",
        "s1_append_s2 = s1.append(s2)\n",
        "print(\"Series - append:\\n\", s1_append_s2)"
      ],
      "metadata": {
        "colab": {
          "base_uri": "https://localhost:8080/"
        },
        "id": "9eiwuzJg_s6r",
        "outputId": "84e5cb47-3b97-44d9-f8ed-040ce0adc113"
      },
      "execution_count": null,
      "outputs": [
        {
          "output_type": "stream",
          "name": "stdout",
          "text": [
            "Series - append:\n",
            " 0    1\n",
            "1    2\n",
            "2    3\n",
            "3    4\n",
            "4    5\n",
            "5    6\n",
            "0    a\n",
            "1    n\n",
            "2    i\n",
            "3    s\n",
            "4    c\n",
            "5    h\n",
            "dtype: object\n"
          ]
        },
        {
          "output_type": "stream",
          "name": "stderr",
          "text": [
            "<ipython-input-2-e71c4282b84c>:5: FutureWarning: The series.append method is deprecated and will be removed from pandas in a future version. Use pandas.concat instead.\n",
            "  s1_append_s2 = s1.append(s2)\n"
          ]
        }
      ]
    },
    {
      "cell_type": "code",
      "source": [
        "# Buat dataframe df1 dan df2\n",
        "df1 = pd.DataFrame({'a':[5,6],\n",
        "                    'b':[9,10]})\n",
        "print(\"df1:\\n\", df1)\n",
        "df2 = pd.DataFrame({'b':[11,12],\n",
        "                    'a':[13,14]})\n",
        "print(\"df2:\\n\", df2)\n",
        "# Terapkan method append\n",
        "df1_append_df2 = df1.append(df2)\n",
        "print(\"Dataframe - append:\\n\", df1_append_df2)"
      ],
      "metadata": {
        "colab": {
          "base_uri": "https://localhost:8080/"
        },
        "id": "BxMrY5cE_4eM",
        "outputId": "65770c2c-2110-4f92-c780-e0e67092180b"
      },
      "execution_count": null,
      "outputs": [
        {
          "output_type": "stream",
          "name": "stdout",
          "text": [
            "df1:\n",
            "    a   b\n",
            "0  5   9\n",
            "1  6  10\n",
            "df2:\n",
            "     b   a\n",
            "0  11  13\n",
            "1  12  14\n",
            "Dataframe - append:\n",
            "     a   b\n",
            "0   5   9\n",
            "1   6  10\n",
            "0  13  11\n",
            "1  14  12\n"
          ]
        },
        {
          "output_type": "stream",
          "name": "stderr",
          "text": [
            "<ipython-input-3-938ef790b967>:9: FutureWarning: The frame.append method is deprecated and will be removed from pandas in a future version. Use pandas.concat instead.\n",
            "  df1_append_df2 = df1.append(df2)\n"
          ]
        }
      ]
    },
    {
      "cell_type": "code",
      "source": [
        "# Buat dataframe df1 dan df2\n",
        "df1 = pd.DataFrame({'a':[5,6],\n",
        "                    'b':[9,10]})\n",
        "print(\"df1:\\n\", df1)\n",
        "df2 = pd.DataFrame({'b':[11,12],\n",
        "                    'a':[13,14]})\n",
        "print(\"df2:\\n\", df2)\n",
        "# Menerapkan method concat row-wise\n",
        "row_wise_concat = pd.concat([df1,df2])\n",
        "print(\"Row-wise - concat:\\n\", row_wise_concat)"
      ],
      "metadata": {
        "colab": {
          "base_uri": "https://localhost:8080/"
        },
        "id": "CRYy5cL2AFgD",
        "outputId": "77c5f40e-f0b3-45b8-f90b-c85ebc60a140"
      },
      "execution_count": null,
      "outputs": [
        {
          "output_type": "stream",
          "name": "stdout",
          "text": [
            "df1:\n",
            "    a   b\n",
            "0  5   9\n",
            "1  6  10\n",
            "df2:\n",
            "     b   a\n",
            "0  11  13\n",
            "1  12  14\n",
            "Row-wise - concat:\n",
            "     a   b\n",
            "0   5   9\n",
            "1   6  10\n",
            "0  13  11\n",
            "1  14  12\n"
          ]
        }
      ]
    },
    {
      "cell_type": "code",
      "source": [
        "# Terapkan method concat column-wise\n",
        "col_wise_concat = pd.concat([df1, df2], axis=1)\n",
        "print(\"Column-wise - concat:\\n\", col_wise_concat)"
      ],
      "metadata": {
        "colab": {
          "base_uri": "https://localhost:8080/"
        },
        "id": "P97PXaRJALJn",
        "outputId": "f9e835d8-af18-40f7-8c69-b2b0d4dc198b"
      },
      "execution_count": null,
      "outputs": [
        {
          "output_type": "stream",
          "name": "stdout",
          "text": [
            "Column-wise - concat:\n",
            "    a   b   b   a\n",
            "0  5   9  11  13\n",
            "1  6  10  12  14\n"
          ]
        }
      ]
    },
    {
      "cell_type": "code",
      "source": [
        "# Penambahan identifier --> membentuh hasil penggabungan multiindex\n",
        "multiindex_concat = pd.concat([df1,df2],axis=0,keys=['df1','df2'])\n",
        "print(\"Multiindex - concat:\\n\", multiindex_concat)"
      ],
      "metadata": {
        "colab": {
          "base_uri": "https://localhost:8080/"
        },
        "id": "K0iQ4vpwAS1t",
        "outputId": "2daf6a70-87ce-401d-846e-5407ff7a8946"
      },
      "execution_count": null,
      "outputs": [
        {
          "output_type": "stream",
          "name": "stdout",
          "text": [
            "Multiindex - concat:\n",
            "         a   b\n",
            "df1 0   5   9\n",
            "    1   6  10\n",
            "df2 0  13  11\n",
            "    1  14  12\n"
          ]
        }
      ]
    },
    {
      "cell_type": "code",
      "source": [
        "# Membuat dataframe df1 dan df2\n",
        "df1 = pd.DataFrame({\n",
        "   'key':['a1','a2','a3','a4','a5'],\n",
        "   'val1':[2, 5, 0, 5, 1],\n",
        "   'val2':[3, 5, 1, 2, 1]\n",
        "})\n",
        "print(\"df1:\\n\", df1)\n",
        "df2 = pd.DataFrame({\n",
        "   'key':['a1','a3','a5','a7','a10'],\n",
        "   'val3':[11,12,13,14,15],\n",
        "   'val4':[26,27,28,29,30]\n",
        "})\n",
        "print(\"df2:\\n\", df2)"
      ],
      "metadata": {
        "colab": {
          "base_uri": "https://localhost:8080/"
        },
        "id": "d4C6wDP2AWCD",
        "outputId": "be6a2ce6-83d8-4ef9-82d5-91ae2dfee980"
      },
      "execution_count": null,
      "outputs": [
        {
          "output_type": "stream",
          "name": "stdout",
          "text": [
            "df1:\n",
            "   key  val1  val2\n",
            "0  a1     2     3\n",
            "1  a2     5     5\n",
            "2  a3     0     1\n",
            "3  a4     5     2\n",
            "4  a5     1     1\n",
            "df2:\n",
            "    key  val3  val4\n",
            "0   a1    11    26\n",
            "1   a3    12    27\n",
            "2   a5    13    28\n",
            "3   a7    14    29\n",
            "4  a10    15    30\n"
          ]
        }
      ]
    },
    {
      "cell_type": "code",
      "source": [
        "# Merge yang ekivalen dengan SQL left join\n",
        "merge_df_left = pd.merge(left=df1, right=df2, how='left', left_on='key',right_on='key')\n",
        "print('Merge - Left:\\n', merge_df_left)"
      ],
      "metadata": {
        "colab": {
          "base_uri": "https://localhost:8080/"
        },
        "id": "2sthOOXlA1uT",
        "outputId": "709eeb16-6220-4feb-e694-7e479c06f7fe"
      },
      "execution_count": null,
      "outputs": [
        {
          "output_type": "stream",
          "name": "stdout",
          "text": [
            "Merge - Left:\n",
            "   key  val1  val2  val3  val4\n",
            "0  a1     2     3  11.0  26.0\n",
            "1  a2     5     5   NaN   NaN\n",
            "2  a3     0     1  12.0  27.0\n",
            "3  a4     5     2   NaN   NaN\n",
            "4  a5     1     1  13.0  28.0\n"
          ]
        }
      ]
    },
    {
      "cell_type": "code",
      "source": [
        "# Merge yang ekivalen dengan SQL right join\n",
        "merge_df_right = pd.merge(left=df1, right=df2, how='right', left_on='key',right_on='key')\n",
        "print('Merge - Right:\\n', merge_df_right)"
      ],
      "metadata": {
        "colab": {
          "base_uri": "https://localhost:8080/"
        },
        "id": "xjv9v17CA5OV",
        "outputId": "e5e8c6f2-2f22-42f2-d919-85cef6401002"
      },
      "execution_count": null,
      "outputs": [
        {
          "output_type": "stream",
          "name": "stdout",
          "text": [
            "Merge - Right:\n",
            "    key  val1  val2  val3  val4\n",
            "0   a1   2.0   3.0    11    26\n",
            "1   a3   0.0   1.0    12    27\n",
            "2   a5   1.0   1.0    13    28\n",
            "3   a7   NaN   NaN    14    29\n",
            "4  a10   NaN   NaN    15    30\n"
          ]
        }
      ]
    },
    {
      "cell_type": "code",
      "source": [
        "# Merge yang ekivalen dengan SQL inner join\n",
        "merge_df_inner = pd.merge(left=df1, right=df2, how='inner', left_on='key',right_on='key')\n",
        "print('Merge - Inner:\\n', merge_df_inner)"
      ],
      "metadata": {
        "colab": {
          "base_uri": "https://localhost:8080/"
        },
        "id": "OfKLrPyTA7dU",
        "outputId": "c56b57b4-f0dc-45d5-ae99-76e430613ee1"
      },
      "execution_count": null,
      "outputs": [
        {
          "output_type": "stream",
          "name": "stdout",
          "text": [
            "Merge - Inner:\n",
            "   key  val1  val2  val3  val4\n",
            "0  a1     2     3    11    26\n",
            "1  a3     0     1    12    27\n",
            "2  a5     1     1    13    28\n"
          ]
        }
      ]
    },
    {
      "cell_type": "code",
      "source": [
        "# Merge yang ekivalen dengan SQL outer join\n",
        "merge_df_outer = pd.merge(left=df1, right=df2, how='outer', left_on='key',right_on='key')\n",
        "print('Merge - Outer:\\n', merge_df_outer)"
      ],
      "metadata": {
        "colab": {
          "base_uri": "https://localhost:8080/"
        },
        "id": "icZQWighA-IJ",
        "outputId": "49fb0831-1451-48c3-fdb8-9b117effb3ed"
      },
      "execution_count": null,
      "outputs": [
        {
          "output_type": "stream",
          "name": "stdout",
          "text": [
            "Merge - Outer:\n",
            "    key  val1  val2  val3  val4\n",
            "0   a1   2.0   3.0  11.0  26.0\n",
            "1   a2   5.0   5.0   NaN   NaN\n",
            "2   a3   0.0   1.0  12.0  27.0\n",
            "3   a4   5.0   2.0   NaN   NaN\n",
            "4   a5   1.0   1.0  13.0  28.0\n",
            "5   a7   NaN   NaN  14.0  29.0\n",
            "6  a10   NaN   NaN  15.0  30.0\n"
          ]
        }
      ]
    },
    {
      "cell_type": "code",
      "source": [
        "# Membuat dataframe df1 dan df2\n",
        "df1 = pd.DataFrame({\n",
        "   'key':['a1','a2','a3','a4','a5'],\n",
        "   'val1':[2, 5, 0, 5, 1],\n",
        "   'val2':[3, 5, 1, 2, 1]\n",
        "}).set_index(['key','val2'])\n",
        "print(\"dataframe 1:\\n\", df1)\n",
        "df2 = pd.DataFrame({\n",
        "   'key':['a1','a3','a5','a7','a10'],\n",
        "   'val3':[11,12,13,14,15],\n",
        "   'val4':[26,27,28,29,30]\n",
        "}).set_index(['key','val3'])\n",
        "print(\"dataframe 2:\\n\", df2)"
      ],
      "metadata": {
        "colab": {
          "base_uri": "https://localhost:8080/"
        },
        "id": "kvzvgoZdBJmt",
        "outputId": "9c9cff62-987e-476f-b750-4fe2528bfec4"
      },
      "execution_count": null,
      "outputs": [
        {
          "output_type": "stream",
          "name": "stdout",
          "text": [
            "dataframe 1:\n",
            "           val1\n",
            "key val2      \n",
            "a1  3        2\n",
            "a2  5        5\n",
            "a3  1        0\n",
            "a4  2        5\n",
            "a5  1        1\n",
            "dataframe 2:\n",
            "           val4\n",
            "key val3      \n",
            "a1  11      26\n",
            "a3  12      27\n",
            "a5  13      28\n",
            "a7  14      29\n",
            "a10 15      30\n"
          ]
        }
      ]
    },
    {
      "cell_type": "code",
      "source": [
        "# Merge dataframe yang memiliki multi index\n",
        "# df_merge = pd.merge(df1,df2)\n",
        "# print('Merging dataframe:\\n', df_merge)\n",
        "# Merge dataframe yang memiliki multi index\n",
        "df_merge = pd.merge(df1.reset_index(),df2.reset_index())\n",
        "print('Merging dataframe:\\n', df_merge)"
      ],
      "metadata": {
        "colab": {
          "base_uri": "https://localhost:8080/"
        },
        "id": "7Sbq-afJBhgk",
        "outputId": "c58fa4d4-eb1d-4265-9707-b725c529dc28"
      },
      "execution_count": null,
      "outputs": [
        {
          "output_type": "stream",
          "name": "stdout",
          "text": [
            "Merging dataframe:\n",
            "   key  val2  val1  val3  val4\n",
            "0  a1     3     2    11    26\n",
            "1  a3     1     0    12    27\n",
            "2  a5     1     1    13    28\n"
          ]
        }
      ]
    },
    {
      "cell_type": "code",
      "source": [
        "# Membuat dataframe df1 dan df2\n",
        "df1 = pd.DataFrame({\n",
        "   'key':['a1','a2','a3','a4','a5'],\n",
        "   'val1':[2, 5, 0, 5, 1],\n",
        "   'val2':[3, 5, 1, 2, 1]\n",
        "})\n",
        "df2 = pd.DataFrame({\n",
        "   'key':['a1','a3','a5','a7','a10'],\n",
        "   'val3':[11,12,13,14,15],\n",
        "   'val4':[26,27,28,29,30]\n",
        "})\n",
        "# Penerapan join dengan menggunakan set_index dan keyword how\n",
        "# df1.join(df2) #<-- akan error"
      ],
      "metadata": {
        "id": "v-mAE0elBiry"
      },
      "execution_count": null,
      "outputs": []
    },
    {
      "cell_type": "code",
      "source": [
        "print(df1.set_index('key').join(df2.set_index('key')))"
      ],
      "metadata": {
        "colab": {
          "base_uri": "https://localhost:8080/"
        },
        "id": "ejRacnTyBudk",
        "outputId": "502a7696-2e2a-479b-e92e-6317dc00cb9b"
      },
      "execution_count": null,
      "outputs": [
        {
          "output_type": "stream",
          "name": "stdout",
          "text": [
            "     val1  val2  val3  val4\n",
            "key                        \n",
            "a1      2     3  11.0  26.0\n",
            "a2      5     5   NaN   NaN\n",
            "a3      0     1  12.0  27.0\n",
            "a4      5     2   NaN   NaN\n",
            "a5      1     1  13.0  28.0\n"
          ]
        }
      ]
    },
    {
      "cell_type": "code",
      "source": [
        "join_df = df1.set_index('key').join(df2.set_index('key'), how='inner')\n",
        "print(join_df)"
      ],
      "metadata": {
        "colab": {
          "base_uri": "https://localhost:8080/"
        },
        "id": "OPkQcChOBw27",
        "outputId": "baf2aafd-5f1a-43e2-b525-5482dfc514a7"
      },
      "execution_count": null,
      "outputs": [
        {
          "output_type": "stream",
          "name": "stdout",
          "text": [
            "     val1  val2  val3  val4\n",
            "key                        \n",
            "a1      2     3    11    26\n",
            "a3      0     1    12    27\n",
            "a5      1     1    13    28\n"
          ]
        }
      ]
    }
  ]
}