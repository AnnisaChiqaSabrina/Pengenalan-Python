{
  "nbformat": 4,
  "nbformat_minor": 0,
  "metadata": {
    "colab": {
      "provenance": []
    },
    "kernelspec": {
      "name": "python3",
      "display_name": "Python 3"
    },
    "language_info": {
      "name": "python"
    }
  },
  "cells": [
    {
      "cell_type": "markdown",
      "source": [
        "Annisa Chiqa Sabrina_2000015030_Kelas Dasar"
      ],
      "metadata": {
        "id": "w9s7l15Dyekr"
      }
    },
    {
      "cell_type": "markdown",
      "source": [
        "Operator 1 : Program Penerapan Operator Aritemtika"
      ],
      "metadata": {
        "id": "V_2Idr6bvIPb"
      }
    },
    {
      "cell_type": "code",
      "source": [
        "print('penjumlahan')\n",
        "print(2+2)\n",
        "print('-'*20)\n",
        "\n",
        "print('pengurangan')\n",
        "print(2-3)\n",
        "print('-'*20)\n",
        "\n",
        "print('perkalian')\n",
        "print(2*3)\n",
        "print('-'*20)\n",
        "\n",
        "print('pembagian')\n",
        "print(2/3)\n",
        "print('-'*20)\n",
        "\n",
        "print('modulus')\n",
        "print(3%2)\n",
        "print('-'*20)\n",
        "\n",
        "print('Perpangkatan')\n",
        "print(2**3)\n",
        "print('-'*20)\n",
        "\n",
        "print('pembagian flooring')\n",
        "print(3//2)"
      ],
      "metadata": {
        "colab": {
          "base_uri": "https://localhost:8080/"
        },
        "id": "0Z2KoQfEB7ai",
        "outputId": "c4bc3b1e-c2a0-42d4-b671-38ccb48916ed"
      },
      "execution_count": 1,
      "outputs": [
        {
          "output_type": "stream",
          "name": "stdout",
          "text": [
            "penjumlahan\n",
            "4\n",
            "--------------------\n",
            "pengurangan\n",
            "-1\n",
            "--------------------\n",
            "perkalian\n",
            "6\n",
            "--------------------\n",
            "pembagian\n",
            "0.6666666666666666\n",
            "--------------------\n",
            "modulus\n",
            "1\n",
            "--------------------\n",
            "Perpangkatan\n",
            "8\n",
            "--------------------\n",
            "pembagian flooring\n",
            "1\n"
          ]
        }
      ]
    },
    {
      "cell_type": "markdown",
      "source": [
        "Latihan"
      ],
      "metadata": {
        "id": "weDVkjCEB448"
      }
    },
    {
      "cell_type": "code",
      "execution_count": null,
      "metadata": {
        "colab": {
          "base_uri": "https://localhost:8080/"
        },
        "id": "PYQYI6dyuxMo",
        "outputId": "6e089103-b53b-4f2b-dfca-de4a5ea3e643"
      },
      "outputs": [
        {
          "output_type": "stream",
          "name": "stdout",
          "text": [
            "Penjumlahan\n",
            "10+5= 15\n",
            "Pengurangan\n",
            "10-5= 5\n",
            "Perkalian\n",
            "10*5= 50\n",
            "Pembagian\n",
            "10/5= 2.0\n",
            "Modulus\n",
            "10%5= 0\n",
            "Perpangkatan\n",
            "10**5= 100000\n",
            "Pembagian Flooring\n",
            "10//5= 2\n"
          ]
        }
      ],
      "source": [
        "print('Penjumlahan')\n",
        "print('10+5=',10+5)\n",
        "\n",
        "print('Pengurangan')\n",
        "print('10-5=',10-5)\n",
        "\n",
        "print('Perkalian')\n",
        "print('10*5=',10*5)\n",
        "\n",
        "print('Pembagian')\n",
        "print('10/5=',10/5)\n",
        "\n",
        "print('Modulus')\n",
        "print('10%5=',10%5)\n",
        "\n",
        "print('Perpangkatan')\n",
        "print('10**5=',10**5)\n",
        "\n",
        "print('Pembagian Flooring')\n",
        "print('10//5=',10//5)"
      ]
    },
    {
      "cell_type": "markdown",
      "source": [
        "Operator 2: Program Penerapan Operator Assigment"
      ],
      "metadata": {
        "id": "wldm3gg3wTZb"
      }
    },
    {
      "cell_type": "code",
      "source": [
        "#penjumlahan\n",
        "print('penjumlahan')\n",
        "x=5\n",
        "x=x+5\n",
        "print(x)\n",
        "x=5\n",
        "x+=5\n",
        "print(x)\n",
        "print('-'*20)\n",
        "\n",
        "#pengurangan\n",
        "print('pengurangan')\n",
        "x=5\n",
        "x=x-5\n",
        "print(x)\n",
        "x=5\n",
        "x-=3\n",
        "print(x)\n",
        "print('-'*20)\n",
        "\n",
        "#perkalian\n",
        "print('perkalian')\n",
        "x=5\n",
        "x=x*5\n",
        "print(x)\n",
        "x=5\n",
        "x*=3\n",
        "print(x)\n",
        "print('-'*20)\n",
        "\n",
        "#pembagian\n",
        "print('pembagian')\n",
        "x=5\n",
        "x=x/5\n",
        "print(x)\n",
        "x=5\n",
        "x/=3\n",
        "print(x)\n",
        "print('-'*20)\n",
        "\n",
        "#modulus\n",
        "print('modulus')\n",
        "x=5\n",
        "x=x%5\n",
        "print(x)\n",
        "x=5\n",
        "x%=3\n",
        "print(x)\n",
        "print('-'*20)\n",
        "\n",
        "#Pembagian flooring\n",
        "print('pembagian flooring')\n",
        "x=5\n",
        "x=x//5\n",
        "print(x)\n",
        "x=5\n",
        "x//=3\n",
        "print(x)\n",
        "print('-'*20)\n",
        "\n",
        "#perpangkatan\n",
        "print('perpangkatan')\n",
        "x=5\n",
        "x=x**5\n",
        "print(x)\n",
        "x=5\n",
        "x**=3\n",
        "print(x)\n",
        "print('-'*20)"
      ],
      "metadata": {
        "colab": {
          "base_uri": "https://localhost:8080/"
        },
        "id": "Adr4hkNfCAjh",
        "outputId": "65a33ed2-7803-46ca-8426-a9d7dafdd6b4"
      },
      "execution_count": 2,
      "outputs": [
        {
          "output_type": "stream",
          "name": "stdout",
          "text": [
            "penjumlahan\n",
            "10\n",
            "10\n",
            "--------------------\n",
            "pengurangan\n",
            "0\n",
            "2\n",
            "--------------------\n",
            "perkalian\n",
            "25\n",
            "15\n",
            "--------------------\n",
            "pembagian\n",
            "1.0\n",
            "1.6666666666666667\n",
            "--------------------\n",
            "modulus\n",
            "0\n",
            "2\n",
            "--------------------\n",
            "pembagian flooring\n",
            "1\n",
            "1\n",
            "--------------------\n",
            "perpangkatan\n",
            "3125\n",
            "125\n",
            "--------------------\n"
          ]
        }
      ]
    },
    {
      "cell_type": "markdown",
      "source": [
        "Latihan"
      ],
      "metadata": {
        "id": "l4zREixKB_qy"
      }
    },
    {
      "cell_type": "code",
      "source": [
        "print('penjumlahan')\n",
        "x=10\n",
        "x=x+10\n",
        "print('x baru=',x)\n",
        "x=10\n",
        "x+=10\n",
        "print('x baru=',x)\n",
        "\n",
        "print('pengurangan')\n",
        "x=10\n",
        "x=x-10\n",
        "print('x baru=',x)\n",
        "x=10\n",
        "x-=5\n",
        "print('x baru=',x)\n",
        "\n",
        "print('perkalian')\n",
        "x=10\n",
        "x=x*10\n",
        "print('x baru=',x)\n",
        "x=10\n",
        "x*=5\n",
        "print('x baru=',x)\n",
        "\n",
        "print('pembagian')\n",
        "x=10\n",
        "x=x/10\n",
        "print('x baru=',x)\n",
        "x=10\n",
        "x/=5\n",
        "print('x baru=',x)\n",
        "\n",
        "print('modulus')\n",
        "x=10\n",
        "x=x%10\n",
        "print('x baru=',x)\n",
        "x=10\n",
        "x%=5\n",
        "print('x baru=',x)\n",
        "\n",
        "print('pembagian flooring')\n",
        "x=10\n",
        "x=x//10\n",
        "print('x baru=',x)\n",
        "x=10\n",
        "x//=5\n",
        "print('x baru=',x)\n",
        "\n",
        "print('pemangkatan')\n",
        "x=10\n",
        "x=x**5\n",
        "print('x baru=',x)\n",
        "x=10\n",
        "x**=5\n",
        "print('x baru=',x)"
      ],
      "metadata": {
        "colab": {
          "base_uri": "https://localhost:8080/"
        },
        "id": "Zc00Tx1dwfjc",
        "outputId": "3ff90201-0f10-4824-d49d-914f42554087"
      },
      "execution_count": null,
      "outputs": [
        {
          "output_type": "stream",
          "name": "stdout",
          "text": [
            "penjumlahan\n",
            "x baru= 20\n",
            "x baru= 20\n",
            "pengurangan\n",
            "x baru= 0\n",
            "x baru= 5\n",
            "perkalian\n",
            "x baru= 100\n",
            "x baru= 50\n",
            "pembagian\n",
            "x baru= 1.0\n",
            "x baru= 2.0\n",
            "modulus\n",
            "x baru= 0\n",
            "x baru= 0\n",
            "pembagian flooring\n",
            "x baru= 1\n",
            "x baru= 2\n",
            "pemangkatan\n",
            "x baru= 100000\n",
            "x baru= 100000\n"
          ]
        }
      ]
    },
    {
      "cell_type": "markdown",
      "source": [
        "Operator 3: Program Penerapan Operator Pembanding"
      ],
      "metadata": {
        "id": "sIMw59XMx4eR"
      }
    },
    {
      "cell_type": "code",
      "source": [
        "print(2==2)\n",
        "print(2!=2)\n",
        "print(2>2)\n",
        "print(2<2)\n",
        "print(2>=2)\n",
        "print(2<=2)"
      ],
      "metadata": {
        "colab": {
          "base_uri": "https://localhost:8080/"
        },
        "id": "DssVHJ_zCJXa",
        "outputId": "7ca17822-1703-48b7-f25f-55c392454012"
      },
      "execution_count": 3,
      "outputs": [
        {
          "output_type": "stream",
          "name": "stdout",
          "text": [
            "True\n",
            "False\n",
            "False\n",
            "False\n",
            "True\n",
            "True\n"
          ]
        }
      ]
    },
    {
      "cell_type": "markdown",
      "source": [
        "Latihan"
      ],
      "metadata": {
        "id": "NI9U3aFYCIWw"
      }
    },
    {
      "cell_type": "code",
      "source": [
        "print(5==10)\n",
        "print(5!=10)\n",
        "print(5>10)\n",
        "print(5<10)\n",
        "print(5>=10)\n",
        "print(5<=10)"
      ],
      "metadata": {
        "colab": {
          "base_uri": "https://localhost:8080/"
        },
        "id": "i43gJAz1yBNq",
        "outputId": "0092d3d6-84a7-4ec1-9944-5f10b5eb4172"
      },
      "execution_count": null,
      "outputs": [
        {
          "output_type": "stream",
          "name": "stdout",
          "text": [
            "False\n",
            "True\n",
            "False\n",
            "True\n",
            "False\n",
            "True\n"
          ]
        }
      ]
    },
    {
      "cell_type": "markdown",
      "source": [
        "Operator 4: Program Penerapan Operator Logika"
      ],
      "metadata": {
        "id": "7Z8zx6O6yaP1"
      }
    },
    {
      "cell_type": "code",
      "source": [
        "print(True and False)\n",
        "print(False or False)\n",
        "print(not False and True)"
      ],
      "metadata": {
        "colab": {
          "base_uri": "https://localhost:8080/"
        },
        "id": "GCJc2U9yCQF4",
        "outputId": "e2289dcf-801a-4441-85d9-628f899b1609"
      },
      "execution_count": 4,
      "outputs": [
        {
          "output_type": "stream",
          "name": "stdout",
          "text": [
            "False\n",
            "False\n",
            "True\n"
          ]
        }
      ]
    },
    {
      "cell_type": "markdown",
      "source": [
        "Latihan"
      ],
      "metadata": {
        "id": "Q1jJCpMSCO_n"
      }
    },
    {
      "cell_type": "code",
      "source": [
        "print(True and True)\n",
        "print(True or False)"
      ],
      "metadata": {
        "colab": {
          "base_uri": "https://localhost:8080/"
        },
        "id": "bLcNxQ9LytTY",
        "outputId": "bfa4c7d6-8e5b-4432-b316-307032409885"
      },
      "execution_count": null,
      "outputs": [
        {
          "output_type": "stream",
          "name": "stdout",
          "text": [
            "True\n",
            "True\n"
          ]
        }
      ]
    },
    {
      "cell_type": "markdown",
      "source": [
        "Operator 5: Program Penerapan Operator Keanggotaan Membership"
      ],
      "metadata": {
        "id": "Bu52e2wmy48w"
      }
    },
    {
      "cell_type": "code",
      "source": [
        "a=(1,2,3,4,5,6)\n",
        "b=2\n",
        "print(b in a)\n",
        "\n",
        "print('-'*20)\n",
        "a=(1,2,3,4,5,6)\n",
        "b=7\n",
        "print(b not in a)"
      ],
      "metadata": {
        "colab": {
          "base_uri": "https://localhost:8080/"
        },
        "id": "CQP55nRhCVI_",
        "outputId": "f3ed5eb5-d89d-4745-a031-603b2cdc4050"
      },
      "execution_count": 5,
      "outputs": [
        {
          "output_type": "stream",
          "name": "stdout",
          "text": [
            "True\n",
            "--------------------\n",
            "True\n"
          ]
        }
      ]
    },
    {
      "cell_type": "markdown",
      "source": [
        "Latihan"
      ],
      "metadata": {
        "id": "7arPKRUwCUOt"
      }
    },
    {
      "cell_type": "code",
      "source": [
        "a=(5,7,9,11,13,15)\n",
        "b=13\n",
        "print(b in a)\n",
        "\n",
        "a=(17,19,21,23,25)\n",
        "b=11\n",
        "print(b not in a)"
      ],
      "metadata": {
        "colab": {
          "base_uri": "https://localhost:8080/"
        },
        "id": "9DfZh0JgzLKh",
        "outputId": "94e5e90e-b585-4c97-bac0-1b2c5660c631"
      },
      "execution_count": null,
      "outputs": [
        {
          "output_type": "stream",
          "name": "stdout",
          "text": [
            "True\n",
            "True\n"
          ]
        }
      ]
    },
    {
      "cell_type": "markdown",
      "source": [
        "Latihan 1: Variabel dengan Tipe Data yang Berbeda"
      ],
      "metadata": {
        "id": "KvJHtPD8zxO8"
      }
    },
    {
      "cell_type": "code",
      "source": [
        "a='saya mahasiswa matematika UAD'\n",
        "print(a)\n",
        "b=18\n",
        "print(b)\n",
        "c=7.2\n",
        "print(c)\n",
        "d=True\n",
        "print(d)\n",
        "e=1j+8\n",
        "print(e)"
      ],
      "metadata": {
        "colab": {
          "base_uri": "https://localhost:8080/"
        },
        "id": "rG1Lzt-i0Nd_",
        "outputId": "ef0f5f34-0d15-4887-f28d-59456fe04742"
      },
      "execution_count": null,
      "outputs": [
        {
          "output_type": "stream",
          "name": "stdout",
          "text": [
            "saya mahasiswa matematika UAD\n",
            "18\n",
            "7.2\n",
            "True\n",
            "(8+1j)\n"
          ]
        }
      ]
    },
    {
      "cell_type": "markdown",
      "source": [
        "Latihan 2: Pengecekan Tipe Data Variabel"
      ],
      "metadata": {
        "id": "nHQOCFu10qUC"
      }
    },
    {
      "cell_type": "code",
      "source": [
        "kalimat='ini adalah variabel' #string\n",
        "bilangan1=4\n",
        "bilangan2=2.5\n",
        "bilangan3=True\n",
        "bilangan4=1j+4\n",
        "\n",
        "print(kalimat)\n",
        "print(bilangan1)\n",
        "print(bilangan2)\n",
        "print(bilangan3)\n",
        "print(bilangan4)"
      ],
      "metadata": {
        "colab": {
          "base_uri": "https://localhost:8080/"
        },
        "id": "k3dz6FMcCaIF",
        "outputId": "3d99066b-786f-4002-9f74-cf72c8da2765"
      },
      "execution_count": 6,
      "outputs": [
        {
          "output_type": "stream",
          "name": "stdout",
          "text": [
            "ini adalah variabel\n",
            "4\n",
            "2.5\n",
            "True\n",
            "(4+1j)\n"
          ]
        }
      ]
    },
    {
      "cell_type": "markdown",
      "source": [
        "Latihan"
      ],
      "metadata": {
        "id": "kS-FuR61CZEc"
      }
    },
    {
      "cell_type": "code",
      "source": [
        "print(type(kalimat))\n",
        "print(type(bilangan1))\n",
        "print(type(bilangan2))\n",
        "print(type(bilangan3))\n",
        "print(type(bilangan4))"
      ],
      "metadata": {
        "colab": {
          "base_uri": "https://localhost:8080/"
        },
        "id": "FJ9T0d1FCjgA",
        "outputId": "eefc3537-344f-4225-ee57-815c4550e656"
      },
      "execution_count": 7,
      "outputs": [
        {
          "output_type": "stream",
          "name": "stdout",
          "text": [
            "<class 'str'>\n",
            "<class 'int'>\n",
            "<class 'float'>\n",
            "<class 'bool'>\n",
            "<class 'complex'>\n"
          ]
        }
      ]
    },
    {
      "cell_type": "code",
      "source": [
        "print(type(a))\n",
        "print(type(b))\n",
        "print(type(c))\n",
        "print(type(d))\n",
        "print(type(e))"
      ],
      "metadata": {
        "colab": {
          "base_uri": "https://localhost:8080/"
        },
        "id": "OI7V18-T0wH0",
        "outputId": "b4824dcf-0303-4739-ea62-0ae0cec2a459"
      },
      "execution_count": null,
      "outputs": [
        {
          "output_type": "stream",
          "name": "stdout",
          "text": [
            "<class 'str'>\n",
            "<class 'int'>\n",
            "<class 'float'>\n",
            "<class 'bool'>\n",
            "<class 'complex'>\n"
          ]
        }
      ]
    },
    {
      "cell_type": "markdown",
      "source": [
        "Latihan 3: Konversi Tipe Data"
      ],
      "metadata": {
        "id": "fdyYMNft0-xx"
      }
    },
    {
      "cell_type": "code",
      "source": [
        "#konversi tipe data integer\n",
        "print(int(bilangan2))\n",
        "print(int(bilangan3))\n",
        "print('-'*20)\n",
        "\n",
        "#konversi tipe data float\n",
        "print(float(bilangan1))\n",
        "print(float(bilangan3))\n",
        "print('-'*20)\n",
        "\n",
        "#konversi tipe data string\n",
        "print(str(bilangan1))\n",
        "print(str(bilangan2))\n",
        "print(str(bilangan3))\n",
        "print('-'*20)\n",
        "\n",
        "#konversi tipe data bool\n",
        "print(bool(bilangan1))\n",
        "print(bool(bilangan2))\n",
        "print('-'*20)\n",
        "\n",
        "#konversi tipe data complex\n",
        "print(complex(bilangan1))\n",
        "print(complex(bilangan2))\n",
        "print(complex(bilangan3))"
      ],
      "metadata": {
        "colab": {
          "base_uri": "https://localhost:8080/"
        },
        "id": "_oJZYUS4CoYJ",
        "outputId": "f29a5c4d-74bb-473f-b4d9-db1443b9b44c"
      },
      "execution_count": 8,
      "outputs": [
        {
          "output_type": "stream",
          "name": "stdout",
          "text": [
            "2\n",
            "1\n",
            "--------------------\n",
            "4.0\n",
            "1.0\n",
            "--------------------\n",
            "4\n",
            "2.5\n",
            "True\n",
            "--------------------\n",
            "True\n",
            "True\n",
            "--------------------\n",
            "(4+0j)\n",
            "(2.5+0j)\n",
            "(1+0j)\n"
          ]
        }
      ]
    },
    {
      "cell_type": "markdown",
      "source": [
        "Latihan"
      ],
      "metadata": {
        "id": "5c_s8QRVCnbL"
      }
    },
    {
      "cell_type": "code",
      "source": [
        "print(int(c))\n",
        "print(int(d))\n",
        "\n",
        "print(float(b))\n",
        "print(float(d))\n",
        "\n",
        "print(str(b))\n",
        "print(str(c))\n",
        "print(str(d))\n",
        "\n",
        "print(bool(b))\n",
        "print(bool(c))\n",
        "\n",
        "print(complex(b))\n",
        "print(complex(c))\n",
        "print(complex(d))"
      ],
      "metadata": {
        "colab": {
          "base_uri": "https://localhost:8080/"
        },
        "id": "dhFw0R8b1azF",
        "outputId": "10657802-2c0b-4371-9a50-69b27e7e4e2e"
      },
      "execution_count": null,
      "outputs": [
        {
          "output_type": "stream",
          "name": "stdout",
          "text": [
            "7\n",
            "1\n",
            "18.0\n",
            "1.0\n",
            "18\n",
            "7.2\n",
            "True\n",
            "True\n",
            "True\n",
            "(18+0j)\n",
            "(7.2+0j)\n",
            "(1+0j)\n"
          ]
        }
      ]
    }
  ]
}