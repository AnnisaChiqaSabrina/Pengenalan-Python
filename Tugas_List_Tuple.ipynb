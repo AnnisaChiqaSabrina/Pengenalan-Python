{
  "nbformat": 4,
  "nbformat_minor": 0,
  "metadata": {
    "colab": {
      "provenance": []
    },
    "kernelspec": {
      "name": "python3",
      "display_name": "Python 3"
    },
    "language_info": {
      "name": "python"
    }
  },
  "cells": [
    {
      "cell_type": "markdown",
      "source": [
        "**List**"
      ],
      "metadata": {
        "id": "v2KIM6zbj22O"
      }
    },
    {
      "cell_type": "code",
      "execution_count": 1,
      "metadata": {
        "colab": {
          "base_uri": "https://localhost:8080/"
        },
        "id": "RFyBSwOzjvh1",
        "outputId": "32090407-9421-47b2-87ec-3f7371bbe394"
      },
      "outputs": [
        {
          "output_type": "stream",
          "name": "stdout",
          "text": [
            "<class 'list'>\n"
          ]
        }
      ],
      "source": [
        "#contoh list\n",
        "L1=[1,4,2,13]\n",
        "print(type(L1))"
      ]
    },
    {
      "cell_type": "code",
      "source": [
        "L2=[\"a\",\"python\",3]\n",
        "print(type(L2))"
      ],
      "metadata": {
        "colab": {
          "base_uri": "https://localhost:8080/"
        },
        "id": "svyYSJpQj7cL",
        "outputId": "9e02b3df-1aed-45e5-d3c6-08692a096518"
      },
      "execution_count": 2,
      "outputs": [
        {
          "output_type": "stream",
          "name": "stdout",
          "text": [
            "<class 'list'>\n"
          ]
        }
      ]
    },
    {
      "cell_type": "code",
      "source": [
        "print(L1)\n",
        "print(L2)"
      ],
      "metadata": {
        "colab": {
          "base_uri": "https://localhost:8080/"
        },
        "id": "GPP8Pt_cj88C",
        "outputId": "e603b7a2-e7f5-442e-9459-2ed32406c395"
      },
      "execution_count": 3,
      "outputs": [
        {
          "output_type": "stream",
          "name": "stdout",
          "text": [
            "[1, 4, 2, 13]\n",
            "['a', 'python', 3]\n"
          ]
        }
      ]
    },
    {
      "cell_type": "code",
      "source": [
        "#sifat-sifat list\n",
        "\n",
        "#terurut/ordered\n",
        "print(\"memanggil list L1 dengan indekst terurut:\",L1[0:3])\n",
        "\n",
        "#Bisa diganti/mutable\n",
        "L1[1]=2\n",
        "print(\"list L1 setelah diganti elemennya:\",L1)\n",
        "\n",
        "L1=[1,\"dua\",True,2+3j]\n",
        "\n",
        "#dapat diindeks/slicing\n",
        "print(\"slicing list L1:\",L1[3])\n",
        "\n",
        "#dapat dijadikan duplikasi\n",
        "L1=[1,\"dua\",True,2+3j,2+3j]\n",
        "print(\"Duplikasi pada list L1:\",L1)\n",
        "\n",
        "#dapat mengubah data dengan mengganti elemen tertentu\n",
        "L1=[1,\"dua\",True,2+3j]\n",
        "L1[2]=3\n",
        "print(\"data setelah diubah:\",L1)\n",
        "\n",
        "#dapat menambahkan elemen baru pada data\n",
        "L1=[1,\"dua\",True,2+3j]\n",
        "L1.append(20)\n",
        "print(\"data setelah ditambahkan elemennya:\",L1)\n",
        "\n",
        "#dapat menghapus elemen pada data\n",
        "L1=[1,\"dua\",True,2+3j]\n",
        "L1.remove(2+3j)\n",
        "print(\"data setelah dihapus elemennya:\",L1)\n"
      ],
      "metadata": {
        "colab": {
          "base_uri": "https://localhost:8080/"
        },
        "id": "GLtU8e4mkA2y",
        "outputId": "3f76c3b4-0f68-4240-f16a-fcf2f1f28603"
      },
      "execution_count": 4,
      "outputs": [
        {
          "output_type": "stream",
          "name": "stdout",
          "text": [
            "memanggil list L1 dengan indekst terurut: [1, 4, 2]\n",
            "list L1 setelah diganti elemennya: [1, 2, 2, 13]\n",
            "slicing list L1: (2+3j)\n",
            "Duplikasi pada list L1: [1, 'dua', True, (2+3j), (2+3j)]\n",
            "data setelah diubah: [1, 'dua', 3, (2+3j)]\n",
            "data setelah ditambahkan elemennya: [1, 'dua', True, (2+3j), 20]\n",
            "data setelah dihapus elemennya: [1, 'dua', True]\n"
          ]
        }
      ]
    },
    {
      "cell_type": "code",
      "source": [
        "#menambahkan data menggunakan fungsi extend (menambahkan elemen baru pada list namun elemen tersebut ditambahkan secara individual)\n",
        "L1=[1,\"dua\",True,2+3j]\n",
        "L1.extend(\"nanas\")\n",
        "print(L1)\n"
      ],
      "metadata": {
        "colab": {
          "base_uri": "https://localhost:8080/"
        },
        "id": "0Qn5I4AMkDSJ",
        "outputId": "28f4ad3b-c14e-4179-9e87-50f305cbb11c"
      },
      "execution_count": 5,
      "outputs": [
        {
          "output_type": "stream",
          "name": "stdout",
          "text": [
            "[1, 'dua', True, (2+3j), 'n', 'a', 'n', 'a', 's']\n"
          ]
        }
      ]
    },
    {
      "cell_type": "code",
      "source": [
        "L1=[1,\"dua\",True,2+3j]\n",
        "L1.extend([\"nanas\"])\n",
        "print(L1)"
      ],
      "metadata": {
        "colab": {
          "base_uri": "https://localhost:8080/"
        },
        "id": "B-D7i5B8kFjO",
        "outputId": "abc1fae9-0585-43e5-d9ab-4d74bc4c9377"
      },
      "execution_count": 6,
      "outputs": [
        {
          "output_type": "stream",
          "name": "stdout",
          "text": [
            "[1, 'dua', True, (2+3j), 'nanas']\n"
          ]
        }
      ]
    },
    {
      "cell_type": "code",
      "source": [
        "#menambahkan data menggunakan fungsi insert menambahkan elemen baru di list pada indeks tertentu)\n",
        "L1=[1,\"dua\",True,2+3j]\n",
        "L1.insert(2,5)\n",
        "print(L1)"
      ],
      "metadata": {
        "colab": {
          "base_uri": "https://localhost:8080/"
        },
        "id": "W4TDWdSUkIR4",
        "outputId": "14e16ed8-7616-4b2f-a2ff-3d11cf408ae1"
      },
      "execution_count": 7,
      "outputs": [
        {
          "output_type": "stream",
          "name": "stdout",
          "text": [
            "[1, 'dua', 5, True, (2+3j)]\n"
          ]
        }
      ]
    },
    {
      "cell_type": "code",
      "source": [
        "#menghapus elemen menggunakan fungsi pop() (menghapus berdasarkan indeks)\n",
        "L1=[1,\"dua\",True,2+3j]\n",
        "L1.pop(2)\n",
        "print(L1)"
      ],
      "metadata": {
        "colab": {
          "base_uri": "https://localhost:8080/"
        },
        "id": "NR2eXRCukLNQ",
        "outputId": "39816ff0-d3f3-435d-a5b5-a83d8f230f76"
      },
      "execution_count": 8,
      "outputs": [
        {
          "output_type": "stream",
          "name": "stdout",
          "text": [
            "[1, 'dua', (2+3j)]\n"
          ]
        }
      ]
    },
    {
      "cell_type": "code",
      "source": [
        "L1=[1,\"dua\",True,2+3j]\n",
        "L1.pop()\n",
        "print(L1)"
      ],
      "metadata": {
        "colab": {
          "base_uri": "https://localhost:8080/"
        },
        "id": "l0lth9bBkNhF",
        "outputId": "6dadfd89-e080-4cf0-9a7f-f1e80975adc3"
      },
      "execution_count": 9,
      "outputs": [
        {
          "output_type": "stream",
          "name": "stdout",
          "text": [
            "[1, 'dua', True]\n"
          ]
        }
      ]
    },
    {
      "cell_type": "markdown",
      "source": [
        "Latihan 1: Buatlah List kalian sendiri"
      ],
      "metadata": {
        "id": "Buxh8jmUlJoS"
      }
    },
    {
      "cell_type": "code",
      "source": [
        "A=[1,\"C\",8,True,1+7j]\n",
        "print(\"A:\",A)"
      ],
      "metadata": {
        "colab": {
          "base_uri": "https://localhost:8080/"
        },
        "id": "_X0rzHGNl7Ph",
        "outputId": "e0b8257d-c7d2-4175-b8a0-c0c56732dd76"
      },
      "execution_count": 24,
      "outputs": [
        {
          "output_type": "stream",
          "name": "stdout",
          "text": [
            "A: [1, 'C', 8, True, (1+7j)]\n"
          ]
        }
      ]
    },
    {
      "cell_type": "markdown",
      "source": [
        "Latihan 2: Ganti elemen yang ada pada list yang kalian buat"
      ],
      "metadata": {
        "id": "T_SRgmsklRJt"
      }
    },
    {
      "cell_type": "code",
      "source": [
        "#ganti elemen yang ada pada list\n",
        "A[2]=2000\n",
        "print(\"A:\",A)\n",
        "\n",
        "A=[1,\"C\",8,True,1+7j]\n",
        "A.append(3)\n",
        "print(\"A:\",A)\n",
        "\n",
        "A=[1,\"C\",8,True,1+7j]\n",
        "A.extend([\"Annisa\"])\n",
        "print(\"A:\",A)\n",
        "\n",
        "A=[1,\"C\",8,True,1+7j]\n",
        "A.insert(4,\"S\")\n",
        "print(\"A:\",A)\n",
        "\n",
        "A=[1,\"C\",8,True,1+7j]\n",
        "A.remove(8)\n",
        "print(\"A:\",A)\n",
        "\n",
        "A=[1,\"C\",8,True,1+7j]\n",
        "A.pop(3)\n",
        "print(\"A:\", A)"
      ],
      "metadata": {
        "colab": {
          "base_uri": "https://localhost:8080/"
        },
        "id": "6wIzOKnWmFFO",
        "outputId": "d3407571-4260-4202-d24b-051dc0dc0324"
      },
      "execution_count": 26,
      "outputs": [
        {
          "output_type": "stream",
          "name": "stdout",
          "text": [
            "A: [1, 'C', 2000, (1+7j)]\n",
            "A: [1, 'C', 8, True, (1+7j), 3]\n",
            "A: [1, 'C', 8, True, (1+7j), 'Annisa']\n",
            "A: [1, 'C', 8, True, 'S', (1+7j)]\n",
            "A: [1, 'C', True, (1+7j)]\n",
            "A: [1, 'C', 8, (1+7j)]\n"
          ]
        }
      ]
    },
    {
      "cell_type": "markdown",
      "source": [
        "**Tuple**"
      ],
      "metadata": {
        "id": "Q9KOMVtTkRLH"
      }
    },
    {
      "cell_type": "code",
      "source": [
        "#contoh\n",
        "T1=(1,\"dua\",True,1+2j)\n",
        "print(\"ini adalah tuple:\",T1)"
      ],
      "metadata": {
        "colab": {
          "base_uri": "https://localhost:8080/"
        },
        "id": "oUgwtdJYkT0r",
        "outputId": "a05416c3-c7c4-4162-d3d6-5a324b4250e5"
      },
      "execution_count": 10,
      "outputs": [
        {
          "output_type": "stream",
          "name": "stdout",
          "text": [
            "ini adalah tuple: (1, 'dua', True, (1+2j))\n"
          ]
        }
      ]
    },
    {
      "cell_type": "code",
      "source": [
        "T11=1,\"dua\",True,1+2j\n",
        "print(\"ini adalah tuple:\",T11)"
      ],
      "metadata": {
        "colab": {
          "base_uri": "https://localhost:8080/"
        },
        "id": "A3g5NnlwkWbU",
        "outputId": "00fc3d2e-bdbe-4675-beca-db95c75cf2f1"
      },
      "execution_count": 11,
      "outputs": [
        {
          "output_type": "stream",
          "name": "stdout",
          "text": [
            "ini adalah tuple: (1, 'dua', True, (1+2j))\n"
          ]
        }
      ]
    },
    {
      "cell_type": "code",
      "source": [
        "#menampilkan tipe struktur data\n",
        "type(T1)"
      ],
      "metadata": {
        "colab": {
          "base_uri": "https://localhost:8080/"
        },
        "id": "LSSdht5IkYlt",
        "outputId": "ca77290e-56fc-4205-cf20-b1b2484ac0c1"
      },
      "execution_count": 12,
      "outputs": [
        {
          "output_type": "execute_result",
          "data": {
            "text/plain": [
              "tuple"
            ]
          },
          "metadata": {},
          "execution_count": 12
        }
      ]
    },
    {
      "cell_type": "code",
      "source": [
        "type(T11)"
      ],
      "metadata": {
        "colab": {
          "base_uri": "https://localhost:8080/"
        },
        "id": "kqYre7lVkbFH",
        "outputId": "a71a86b4-aee6-45bd-e045-67520df3f6db"
      },
      "execution_count": 13,
      "outputs": [
        {
          "output_type": "execute_result",
          "data": {
            "text/plain": [
              "tuple"
            ]
          },
          "metadata": {},
          "execution_count": 13
        }
      ]
    },
    {
      "cell_type": "markdown",
      "source": [
        "Sifat-Sifat Tuple"
      ],
      "metadata": {
        "id": "hC_cVC6QkdvF"
      }
    },
    {
      "cell_type": "code",
      "source": [
        "#terurut\n",
        "T1[0:3]"
      ],
      "metadata": {
        "colab": {
          "base_uri": "https://localhost:8080/"
        },
        "id": "mbaDJGPGkf5W",
        "outputId": "2cd576f0-5715-4ef7-d923-d83aa47c6957"
      },
      "execution_count": 15,
      "outputs": [
        {
          "output_type": "execute_result",
          "data": {
            "text/plain": [
              "(1, 'dua', True)"
            ]
          },
          "metadata": {},
          "execution_count": 15
        }
      ]
    },
    {
      "cell_type": "code",
      "source": [
        "#tidak bisa diganti\n",
        "T1[2]='manusia'"
      ],
      "metadata": {
        "colab": {
          "base_uri": "https://localhost:8080/",
          "height": 183
        },
        "id": "wLs_-QwWkiv0",
        "outputId": "fbd1eb9d-5c7d-43d0-b20f-594ad43a639f"
      },
      "execution_count": 16,
      "outputs": [
        {
          "output_type": "error",
          "ename": "TypeError",
          "evalue": "ignored",
          "traceback": [
            "\u001b[0;31m---------------------------------------------------------------------------\u001b[0m",
            "\u001b[0;31mTypeError\u001b[0m                                 Traceback (most recent call last)",
            "\u001b[0;32m<ipython-input-16-015a17d6c4ad>\u001b[0m in \u001b[0;36m<cell line: 2>\u001b[0;34m()\u001b[0m\n\u001b[1;32m      1\u001b[0m \u001b[0;31m#tidak bisa diganti\u001b[0m\u001b[0;34m\u001b[0m\u001b[0;34m\u001b[0m\u001b[0m\n\u001b[0;32m----> 2\u001b[0;31m \u001b[0mT1\u001b[0m\u001b[0;34m[\u001b[0m\u001b[0;36m2\u001b[0m\u001b[0;34m]\u001b[0m\u001b[0;34m=\u001b[0m\u001b[0;34m'manusia'\u001b[0m\u001b[0;34m\u001b[0m\u001b[0;34m\u001b[0m\u001b[0m\n\u001b[0m",
            "\u001b[0;31mTypeError\u001b[0m: 'tuple' object does not support item assignment"
          ]
        }
      ]
    },
    {
      "cell_type": "code",
      "source": [
        "#dapat diindeks\n",
        "print(\"elemen kedua dari tuple T1 adalah:\",T1[1])"
      ],
      "metadata": {
        "colab": {
          "base_uri": "https://localhost:8080/"
        },
        "id": "ho7Qbo9eknAJ",
        "outputId": "2fdf2ea0-da7b-4290-a94e-c5de76052d29"
      },
      "execution_count": 17,
      "outputs": [
        {
          "output_type": "stream",
          "name": "stdout",
          "text": [
            "elemen kedua dari tuple T1 adalah: dua\n"
          ]
        }
      ]
    },
    {
      "cell_type": "code",
      "source": [
        "#dapat diijinkan duplikasi\n",
        "T2=(3,2.4,True,2.4)\n",
        "T2"
      ],
      "metadata": {
        "colab": {
          "base_uri": "https://localhost:8080/"
        },
        "id": "50FxprXokqxK",
        "outputId": "46f4b931-52a1-4336-954b-15eb9e9af1f7"
      },
      "execution_count": 18,
      "outputs": [
        {
          "output_type": "execute_result",
          "data": {
            "text/plain": [
              "(3, 2.4, True, 2.4)"
            ]
          },
          "metadata": {},
          "execution_count": 18
        }
      ]
    },
    {
      "cell_type": "code",
      "source": [
        "#tidak dapat menambahkan elemen baru\n",
        "T1=(1,\"dua\",True,1+2j)\n",
        "print(f'tuple\\t:{T1}')"
      ],
      "metadata": {
        "colab": {
          "base_uri": "https://localhost:8080/"
        },
        "id": "FWQ1NhQ3ktJi",
        "outputId": "a19b7ba1-7285-4b9e-ad22-556aa9ec5220"
      },
      "execution_count": 19,
      "outputs": [
        {
          "output_type": "stream",
          "name": "stdout",
          "text": [
            "tuple\t:(1, 'dua', True, (1+2j))\n"
          ]
        }
      ]
    },
    {
      "cell_type": "code",
      "source": [
        "T1.append(10)\n",
        "T1.append(50)\n",
        "print(f'tuple\\t:{T1}')"
      ],
      "metadata": {
        "colab": {
          "base_uri": "https://localhost:8080/",
          "height": 201
        },
        "id": "UH7YRe91kv_d",
        "outputId": "e812862c-7da7-4652-943f-874e6b0a95c0"
      },
      "execution_count": 20,
      "outputs": [
        {
          "output_type": "error",
          "ename": "AttributeError",
          "evalue": "ignored",
          "traceback": [
            "\u001b[0;31m---------------------------------------------------------------------------\u001b[0m",
            "\u001b[0;31mAttributeError\u001b[0m                            Traceback (most recent call last)",
            "\u001b[0;32m<ipython-input-20-91e6b900c502>\u001b[0m in \u001b[0;36m<cell line: 1>\u001b[0;34m()\u001b[0m\n\u001b[0;32m----> 1\u001b[0;31m \u001b[0mT1\u001b[0m\u001b[0;34m.\u001b[0m\u001b[0mappend\u001b[0m\u001b[0;34m(\u001b[0m\u001b[0;36m10\u001b[0m\u001b[0;34m)\u001b[0m\u001b[0;34m\u001b[0m\u001b[0;34m\u001b[0m\u001b[0m\n\u001b[0m\u001b[1;32m      2\u001b[0m \u001b[0mT1\u001b[0m\u001b[0;34m.\u001b[0m\u001b[0mappend\u001b[0m\u001b[0;34m(\u001b[0m\u001b[0;36m50\u001b[0m\u001b[0;34m)\u001b[0m\u001b[0;34m\u001b[0m\u001b[0;34m\u001b[0m\u001b[0m\n\u001b[1;32m      3\u001b[0m \u001b[0mprint\u001b[0m\u001b[0;34m(\u001b[0m\u001b[0;34mf'tuple\\t:{T1}'\u001b[0m\u001b[0;34m)\u001b[0m\u001b[0;34m\u001b[0m\u001b[0;34m\u001b[0m\u001b[0m\n",
            "\u001b[0;31mAttributeError\u001b[0m: 'tuple' object has no attribute 'append'"
          ]
        }
      ]
    },
    {
      "cell_type": "code",
      "source": [
        "#tidak dapat menghapus elemen\n",
        "T1=(1,\"dua\",True,1+2j)\n",
        "print(f'tuple\\t:{T1}')"
      ],
      "metadata": {
        "colab": {
          "base_uri": "https://localhost:8080/"
        },
        "id": "9DxfPmEXkynQ",
        "outputId": "9307ec4e-a281-427c-feef-57493a9f5adc"
      },
      "execution_count": 21,
      "outputs": [
        {
          "output_type": "stream",
          "name": "stdout",
          "text": [
            "tuple\t:(1, 'dua', True, (1+2j))\n"
          ]
        }
      ]
    },
    {
      "cell_type": "code",
      "source": [
        "T1.remove(1)\n",
        "T1.remove(\"dua\")\n",
        "print(f'tuple\\t:{T1}')"
      ],
      "metadata": {
        "colab": {
          "base_uri": "https://localhost:8080/",
          "height": 201
        },
        "id": "TWmsupBJk1J_",
        "outputId": "1e4da5d3-e713-4b1a-8ecf-a58bbcb8819e"
      },
      "execution_count": 22,
      "outputs": [
        {
          "output_type": "error",
          "ename": "AttributeError",
          "evalue": "ignored",
          "traceback": [
            "\u001b[0;31m---------------------------------------------------------------------------\u001b[0m",
            "\u001b[0;31mAttributeError\u001b[0m                            Traceback (most recent call last)",
            "\u001b[0;32m<ipython-input-22-048b364b7b5b>\u001b[0m in \u001b[0;36m<cell line: 1>\u001b[0;34m()\u001b[0m\n\u001b[0;32m----> 1\u001b[0;31m \u001b[0mT1\u001b[0m\u001b[0;34m.\u001b[0m\u001b[0mremove\u001b[0m\u001b[0;34m(\u001b[0m\u001b[0;36m1\u001b[0m\u001b[0;34m)\u001b[0m\u001b[0;34m\u001b[0m\u001b[0;34m\u001b[0m\u001b[0m\n\u001b[0m\u001b[1;32m      2\u001b[0m \u001b[0mT1\u001b[0m\u001b[0;34m.\u001b[0m\u001b[0mremove\u001b[0m\u001b[0;34m(\u001b[0m\u001b[0;34m\"dua\"\u001b[0m\u001b[0;34m)\u001b[0m\u001b[0;34m\u001b[0m\u001b[0;34m\u001b[0m\u001b[0m\n\u001b[1;32m      3\u001b[0m \u001b[0mprint\u001b[0m\u001b[0;34m(\u001b[0m\u001b[0;34mf'tuple\\t:{T1}'\u001b[0m\u001b[0;34m)\u001b[0m\u001b[0;34m\u001b[0m\u001b[0;34m\u001b[0m\u001b[0m\n",
            "\u001b[0;31mAttributeError\u001b[0m: 'tuple' object has no attribute 'remove'"
          ]
        }
      ]
    },
    {
      "cell_type": "markdown",
      "source": [
        "Menggabungkan Tuple"
      ],
      "metadata": {
        "id": "Wl3mw_W-k6Kf"
      }
    },
    {
      "cell_type": "code",
      "source": [
        "#menggabungkan Tuple\n",
        "T3=T1+T2\n",
        "T3"
      ],
      "metadata": {
        "colab": {
          "base_uri": "https://localhost:8080/"
        },
        "id": "DkHS9zuQk36n",
        "outputId": "9581a25c-7748-42e9-e303-34711446dc27"
      },
      "execution_count": 23,
      "outputs": [
        {
          "output_type": "execute_result",
          "data": {
            "text/plain": [
              "(1, 'dua', True, (1+2j), 3, 2.4, True, 2.4)"
            ]
          },
          "metadata": {},
          "execution_count": 23
        }
      ]
    },
    {
      "cell_type": "markdown",
      "source": [
        "Latihan 1: Membuat Tuplemu sendiri"
      ],
      "metadata": {
        "id": "WCWNeSB6mZhI"
      }
    },
    {
      "cell_type": "code",
      "source": [
        "T1=(1,\"tiga\",False,2+4j,3.4)\n",
        "T1"
      ],
      "metadata": {
        "colab": {
          "base_uri": "https://localhost:8080/"
        },
        "id": "4Zsnraz6m0j4",
        "outputId": "8f94aa85-2362-4028-af7f-63662c6ce92d"
      },
      "execution_count": 29,
      "outputs": [
        {
          "output_type": "execute_result",
          "data": {
            "text/plain": [
              "(1, 'tiga', False, (2+4j), 3.4)"
            ]
          },
          "metadata": {},
          "execution_count": 29
        }
      ]
    },
    {
      "cell_type": "markdown",
      "source": [
        "Latihan 2: Buatlah tuple kedua lalu gabungkan 2 tuple yang kamu buat"
      ],
      "metadata": {
        "id": "hU2z8St2mpZg"
      }
    },
    {
      "cell_type": "code",
      "source": [
        "T2=(2,\"empat\",True,1+1j,5.1)\n",
        "T2"
      ],
      "metadata": {
        "colab": {
          "base_uri": "https://localhost:8080/"
        },
        "id": "F6rZ9-_Qmvbj",
        "outputId": "1a740e92-9088-4047-ab9b-b5347e1fdc0c"
      },
      "execution_count": 30,
      "outputs": [
        {
          "output_type": "execute_result",
          "data": {
            "text/plain": [
              "(2, 'empat', True, (1+1j), 5.1)"
            ]
          },
          "metadata": {},
          "execution_count": 30
        }
      ]
    },
    {
      "cell_type": "code",
      "source": [
        "T3=T1+T2\n",
        "T3"
      ],
      "metadata": {
        "colab": {
          "base_uri": "https://localhost:8080/"
        },
        "id": "I9UP_HIWnDhW",
        "outputId": "93f5eabd-a078-48fd-da22-abd61ecc4cd6"
      },
      "execution_count": 31,
      "outputs": [
        {
          "output_type": "execute_result",
          "data": {
            "text/plain": [
              "(1, 'tiga', False, (2+4j), 3.4, 2, 'empat', True, (1+1j), 5.1)"
            ]
          },
          "metadata": {},
          "execution_count": 31
        }
      ]
    }
  ]
}