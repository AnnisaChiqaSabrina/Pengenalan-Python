{
  "nbformat": 4,
  "nbformat_minor": 0,
  "metadata": {
    "colab": {
      "provenance": []
    },
    "kernelspec": {
      "name": "python3",
      "display_name": "Python 3"
    },
    "language_info": {
      "name": "python"
    }
  },
  "cells": [
    {
      "cell_type": "markdown",
      "source": [
        "Annisa Chiqa Sabrina (2000015030)"
      ],
      "metadata": {
        "id": "6XCLTdDpxrjq"
      }
    },
    {
      "cell_type": "markdown",
      "source": [
        "**Looping atau Perulangan**\n",
        "\n",
        "\n"
      ],
      "metadata": {
        "id": "ZLhGGGO9EB2j"
      }
    },
    {
      "cell_type": "code",
      "execution_count": null,
      "metadata": {
        "id": "Kazx6XoRF7ss",
        "colab": {
          "base_uri": "https://localhost:8080/"
        },
        "outputId": "32900b26-6610-49bc-91b6-1c3db0ebc0ad"
      },
      "outputs": [
        {
          "output_type": "stream",
          "name": "stdout",
          "text": [
            "27\n"
          ]
        }
      ],
      "source": [
        "#For Loop\n",
        "\n",
        "#Program untuk menghitung jumlah semua angka dalam sebuah list\n",
        "L1=[2,4,5,7,9]\n",
        "jumlah=0\n",
        "\n",
        "#Iterasi di dalam list\n",
        "for i in L1:\n",
        "  jumlah=jumlah+i\n",
        "print(jumlah)\n"
      ]
    },
    {
      "cell_type": "code",
      "source": [
        "#The Range() Function\n",
        "\n",
        "#program untuk melakukan iterasi di dalam list melalui indeks\n",
        "minuman=[\"teh\",\"boba\",\"kopi\",\"susu\"]\n",
        "p=len(minuman)\n",
        "\n",
        "#iterasi di dalam list melalui indeks\n",
        "for i in range(p):\n",
        "  print(minuman[i])"
      ],
      "metadata": {
        "colab": {
          "base_uri": "https://localhost:8080/"
        },
        "id": "E2SPHWxjEwGO",
        "outputId": "6c935c40-ab18-4dcf-cf0f-52a3f385e291"
      },
      "execution_count": null,
      "outputs": [
        {
          "output_type": "stream",
          "name": "stdout",
          "text": [
            "teh\n",
            "boba\n",
            "kopi\n",
            "susu\n"
          ]
        }
      ]
    },
    {
      "cell_type": "code",
      "source": [
        "#For Loop with Else\n",
        "for i in range(p):\n",
        "  print(minuman[i])\n",
        "else:\n",
        "  print(\"elemen sudah habis\")\n"
      ],
      "metadata": {
        "colab": {
          "base_uri": "https://localhost:8080/"
        },
        "id": "sHtaz65dFOez",
        "outputId": "e71cbd3b-cbc8-422b-aaf5-1f871d82188e"
      },
      "execution_count": null,
      "outputs": [
        {
          "output_type": "stream",
          "name": "stdout",
          "text": [
            "teh\n",
            "boba\n",
            "kopi\n",
            "susu\n",
            "elemen sudah habis\n"
          ]
        }
      ]
    },
    {
      "cell_type": "markdown",
      "source": [
        "**Latihan 1**"
      ],
      "metadata": {
        "id": "3NC_akfhFiTH"
      }
    },
    {
      "cell_type": "code",
      "source": [
        "list_tagihan=[50000,75000,-150000,125000,300000,-50000,200000]\n",
        "total_tagihan=0\n",
        "for i in list_tagihan:\n",
        "  total_tagihan=total_tagihan+i\n",
        "print(\"Total Tagihan:\",total_tagihan)"
      ],
      "metadata": {
        "colab": {
          "base_uri": "https://localhost:8080/"
        },
        "id": "9ckA990-FhTY",
        "outputId": "8d904c02-d330-4c3b-d3de-29da1b8213e8"
      },
      "execution_count": null,
      "outputs": [
        {
          "output_type": "stream",
          "name": "stdout",
          "text": [
            "Total Tagihan: 550000\n"
          ]
        }
      ]
    },
    {
      "cell_type": "code",
      "source": [
        "#While Loop\n",
        "\n",
        "#program untuk menjumlahkan semua\n",
        "#bilangan asli hingga suku ke-n\n",
        "#jum=1+2+3+...+n\n",
        "\n",
        "n=10\n",
        "jumlah=0\n",
        "i=1\n",
        "\n",
        "while i<=n:\n",
        "  jumlah=jumlah+i\n",
        "  i=i+1\n",
        "\n",
        "print(jumlah)"
      ],
      "metadata": {
        "colab": {
          "base_uri": "https://localhost:8080/"
        },
        "id": "b_r8qSkCGRqx",
        "outputId": "f2e49ffe-8338-4538-ec15-6706b65affce"
      },
      "execution_count": null,
      "outputs": [
        {
          "output_type": "stream",
          "name": "stdout",
          "text": [
            "55\n"
          ]
        }
      ]
    },
    {
      "cell_type": "code",
      "source": [
        "#While Loop With Else\n",
        "\n",
        "jum=0\n",
        "i=1\n",
        "while i<=n:\n",
        "  jum=jum+i\n",
        "  i=i+1\n",
        "else:\n",
        "  print(jum)"
      ],
      "metadata": {
        "colab": {
          "base_uri": "https://localhost:8080/"
        },
        "id": "FjNA2PPsH1WU",
        "outputId": "29bb0baa-a444-47a0-d99b-ec653da6669b"
      },
      "execution_count": null,
      "outputs": [
        {
          "output_type": "stream",
          "name": "stdout",
          "text": [
            "55\n"
          ]
        }
      ]
    },
    {
      "cell_type": "markdown",
      "source": [
        "**Latihan 2**"
      ],
      "metadata": {
        "id": "des50pccIkRv"
      }
    },
    {
      "cell_type": "code",
      "source": [
        "tagihan = [50000, 75000, 125000, 300000, 200000]\n",
        "total_tagihan=0\n",
        "i=0\n",
        "while (i < len(tagihan)):\n",
        "  total_tagihan=total_tagihan+tagihan[i]\n",
        "  i=i+1\n",
        "print(\"Total Tagihan=\",total_tagihan)\n"
      ],
      "metadata": {
        "colab": {
          "base_uri": "https://localhost:8080/"
        },
        "id": "jn38L7hl8DTz",
        "outputId": "70caa328-1975-4be2-ae1e-a744d3a40801"
      },
      "execution_count": 14,
      "outputs": [
        {
          "output_type": "stream",
          "name": "stdout",
          "text": [
            "Total Tagihan= 750000\n"
          ]
        }
      ]
    },
    {
      "cell_type": "markdown",
      "source": [
        "**Percabangan**"
      ],
      "metadata": {
        "id": "-Lw5jC5-RVJX"
      }
    },
    {
      "cell_type": "code",
      "source": [
        "#If Statements\n",
        "\n",
        "angka=3\n",
        "if angka>0:\n",
        "  print(angka,\"adalah bilangan positif.\")\n",
        "print(\"Pernyataan ini selalu ditampilkan\")\n",
        "\n",
        "angka=-1\n",
        "if angka>0:\n",
        "  print(angka,\"adalah bilangan positif.\")\n",
        "print(\"Pernyataan ini selalu ditampilkan\")\n"
      ],
      "metadata": {
        "colab": {
          "base_uri": "https://localhost:8080/"
        },
        "id": "xmJqH5JiRPE1",
        "outputId": "df626dd2-6c0b-4514-82e5-dd17a4868baf"
      },
      "execution_count": null,
      "outputs": [
        {
          "output_type": "stream",
          "name": "stdout",
          "text": [
            "3 adalah bilangan positif.\n",
            "Pernyataan ini selalu ditampilkan\n",
            "Pernyataan ini selalu ditampilkan\n"
          ]
        }
      ]
    },
    {
      "cell_type": "code",
      "source": [
        "#IF ELSE Statements\n",
        "\n",
        "'''Program disusun untuk mengecek apakah angka tersebut kurang dari 0 atau tidak\n",
        "dan menampilkan tulisan sesuai'''\n",
        "\n",
        "angka=3\n",
        "if angka>=0:\n",
        "  print(\"Bilangan lebih dari atau sama dengan 0\")\n",
        "else:\n",
        "  print(\"Bilangan kurang dari 0\")"
      ],
      "metadata": {
        "colab": {
          "base_uri": "https://localhost:8080/"
        },
        "id": "736eqGYURyLx",
        "outputId": "bdd7f4ec-4f43-451f-f743-cb588331ab1c"
      },
      "execution_count": null,
      "outputs": [
        {
          "output_type": "stream",
          "name": "stdout",
          "text": [
            "Bilangan lebih dari atau sama dengan 0\n"
          ]
        }
      ]
    },
    {
      "cell_type": "code",
      "source": [
        "'''Program ini disusun untuk menegcek apakah dua buah angka sama atau tidak dan\n",
        "menampilkan tulisan yang sesuai'''\n",
        "\n",
        "a=5\n",
        "b=5\n",
        "if a==b:\n",
        "  print(\"a dan b bernilai sama\")\n",
        "else:\n",
        "  print(\"a dan b bernilai berbeda\")\n",
        "  print(\"belajar if else\")"
      ],
      "metadata": {
        "colab": {
          "base_uri": "https://localhost:8080/"
        },
        "id": "peNaLws6SWE-",
        "outputId": "9475ee35-4fa3-49bb-dc8d-dbc89ea98db0"
      },
      "execution_count": null,
      "outputs": [
        {
          "output_type": "stream",
          "name": "stdout",
          "text": [
            "a dan b bernilai sama\n"
          ]
        }
      ]
    },
    {
      "cell_type": "code",
      "source": [
        "'''Program ini disusun untuk menegcek apakah dua buah angka sama dan\n",
        "menampilkan tulisan yang sesuai'''\n",
        "\n",
        "#mebaca dua angka\n",
        "bil1=int(input(\"masukkan bilangan pertama:\"))\n",
        "bil2=int(input(\"masukkan bilangan kedua:\"))\n",
        "#memilih bilangan yang lebih besar\n",
        "if bil1>bil2:\n",
        "  bil_lebih_besar=bil1\n",
        "else:\n",
        "  bil_lebih_besar=bil2\n",
        "#menampilkan hasil\n",
        "print(\"bilangan yang lebih besar adalah\",bil_lebih_besar)"
      ],
      "metadata": {
        "colab": {
          "base_uri": "https://localhost:8080/"
        },
        "id": "Jd1lQGerSzNF",
        "outputId": "a23c6f1e-8276-4010-adf5-b6ee94f3a49f"
      },
      "execution_count": null,
      "outputs": [
        {
          "output_type": "stream",
          "name": "stdout",
          "text": [
            "masukkan bilangan pertama:3\n",
            "masukkan bilangan kedua:5\n",
            "bilangan yang lebih besar adalah 5\n"
          ]
        }
      ]
    },
    {
      "cell_type": "code",
      "source": [
        "#IF ELIF ELSE Statements\n",
        "'''Program disusun untuk mengecek angka merupakan bilangan positif, negatif atau nol\n",
        "dan menampilkan tulisan yang sesuai'''\n",
        "angka=3.4\n",
        "if angka>=0:\n",
        "  print(\"bilangan positif\")\n",
        "elif angka==0:\n",
        "  print(\"nol\")\n",
        "else:\n",
        "  print(\"bilangan negatif\")\n"
      ],
      "metadata": {
        "colab": {
          "base_uri": "https://localhost:8080/"
        },
        "id": "oDlC_fxQTYAu",
        "outputId": "a6e6a19b-2481-48ce-839d-51ce24cce1e5"
      },
      "execution_count": null,
      "outputs": [
        {
          "output_type": "stream",
          "name": "stdout",
          "text": [
            "bilangan positif\n"
          ]
        }
      ]
    },
    {
      "cell_type": "code",
      "source": [
        "#statment if\n",
        "x=4\n",
        "if x%2==0:\n",
        "  print(\"x habis dibagi dua\")\n",
        "\n",
        "x=7\n",
        "if x%2==0:\n",
        "  print(\"x habis dibagi dua\")\n",
        "elif x%3==0:\n",
        "  print(\"x habis dibagi tiga\")\n",
        "elif x%5==0:\n",
        "  print(\"x habis dibagi lima\")\n",
        "else:\n",
        "  print(\"x tidak habis dibagi dua, tiga maupun lima\")"
      ],
      "metadata": {
        "colab": {
          "base_uri": "https://localhost:8080/"
        },
        "id": "EmCjELZxUaSm",
        "outputId": "9b46139c-9ca0-421a-a85f-76698c5f782a"
      },
      "execution_count": null,
      "outputs": [
        {
          "output_type": "stream",
          "name": "stdout",
          "text": [
            "x habis dibagi dua\n",
            "x tidak habis dibagi dua, tiga maupun lima\n"
          ]
        }
      ]
    },
    {
      "cell_type": "code",
      "source": [
        "#NESTED if statement\n",
        "angka=float(input(\"masukkan angka:\"))\n",
        "if angka>=0:\n",
        "  if angka==0:\n",
        "    print(\"nol\")\n",
        "  else:\n",
        "    print(\"bilangan positif\")\n",
        "else:\n",
        "  print(\"bilangan negatif\")\n"
      ],
      "metadata": {
        "colab": {
          "base_uri": "https://localhost:8080/"
        },
        "id": "1_QDxgrrUCsn",
        "outputId": "ab54096d-1563-4896-d214-7b18e58e21f6"
      },
      "execution_count": null,
      "outputs": [
        {
          "output_type": "stream",
          "name": "stdout",
          "text": [
            "masukkan angka:4\n",
            "bilangan positif\n"
          ]
        }
      ]
    },
    {
      "cell_type": "markdown",
      "source": [
        "**Latihan**"
      ],
      "metadata": {
        "id": "23NsXK8OWJ64"
      }
    },
    {
      "cell_type": "code",
      "source": [
        "harga=int(input(\"masukkan harga produk:\"))\n",
        "if harga>=500000:\n",
        "  print(\"Mahal\")\n",
        "  if harga<=1000000:\n",
        "    print(\"Kamu mendapatkan diskon 20%\")\n",
        "    harga_bayar=0.2*harga\n",
        "    print(\"Harga yang perlu dibayar yaitu\",harga_bayar)\n",
        "  else:\n",
        "    print(\"Kamu mendapatkan diskon 40%\")\n",
        "    harga_bayar=0.4*harga\n",
        "    print(\"Harga yang perlu dibayar yaitu\",harga_bayar)\n",
        "else:\n",
        "  print(\"Murah\")\n",
        "  print(\"Kamu mendapatkan diskon 10%\")\n",
        "  harga_bayar=0.1*harga\n",
        "  print(\"Harga yang perlu dibayar yaitu\",harga_bayar)"
      ],
      "metadata": {
        "colab": {
          "base_uri": "https://localhost:8080/"
        },
        "id": "xI928MNU4Kur",
        "outputId": "efe5932c-e177-4d38-f22f-c748a4783802"
      },
      "execution_count": 3,
      "outputs": [
        {
          "output_type": "stream",
          "name": "stdout",
          "text": [
            "masukkan harga produk:1000000\n",
            "Mahal\n",
            "Kamu mendapatkan diskon 20%\n",
            "Harga yang perlu dibayar yaitu 200000.0\n"
          ]
        }
      ]
    }
  ]
}