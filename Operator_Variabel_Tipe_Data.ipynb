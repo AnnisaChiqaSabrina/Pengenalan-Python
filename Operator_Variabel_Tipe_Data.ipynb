{
  "nbformat": 4,
  "nbformat_minor": 0,
  "metadata": {
    "colab": {
      "provenance": []
    },
    "kernelspec": {
      "name": "python3",
      "display_name": "Python 3"
    },
    "language_info": {
      "name": "python"
    }
  },
  "cells": [
    {
      "cell_type": "markdown",
      "source": [
        "Annisa Chiqa Sabrina_2000015030_Kelas Dasar"
      ],
      "metadata": {
        "id": "w9s7l15Dyekr"
      }
    },
    {
      "cell_type": "markdown",
      "source": [
        "Operator 1 : Program Penerapan Operator Aritemtika"
      ],
      "metadata": {
        "id": "V_2Idr6bvIPb"
      }
    },
    {
      "cell_type": "code",
      "execution_count": 2,
      "metadata": {
        "colab": {
          "base_uri": "https://localhost:8080/"
        },
        "id": "PYQYI6dyuxMo",
        "outputId": "6e089103-b53b-4f2b-dfca-de4a5ea3e643"
      },
      "outputs": [
        {
          "output_type": "stream",
          "name": "stdout",
          "text": [
            "Penjumlahan\n",
            "10+5= 15\n",
            "Pengurangan\n",
            "10-5= 5\n",
            "Perkalian\n",
            "10*5= 50\n",
            "Pembagian\n",
            "10/5= 2.0\n",
            "Modulus\n",
            "10%5= 0\n",
            "Perpangkatan\n",
            "10**5= 100000\n",
            "Pembagian Flooring\n",
            "10//5= 2\n"
          ]
        }
      ],
      "source": [
        "print('Penjumlahan')\n",
        "print('10+5=',10+5)\n",
        "\n",
        "print('Pengurangan')\n",
        "print('10-5=',10-5)\n",
        "\n",
        "print('Perkalian')\n",
        "print('10*5=',10*5)\n",
        "\n",
        "print('Pembagian')\n",
        "print('10/5=',10/5)\n",
        "\n",
        "print('Modulus')\n",
        "print('10%5=',10%5)\n",
        "\n",
        "print('Perpangkatan')\n",
        "print('10**5=',10**5)\n",
        "\n",
        "print('Pembagian Flooring')\n",
        "print('10//5=',10//5)"
      ]
    },
    {
      "cell_type": "markdown",
      "source": [
        "Operator 2: Program Penerapan Operator Assigment"
      ],
      "metadata": {
        "id": "wldm3gg3wTZb"
      }
    },
    {
      "cell_type": "code",
      "source": [
        "print('penjumlahan')\n",
        "x=10\n",
        "x=x+10\n",
        "print('x baru=',x)\n",
        "x=10\n",
        "x+=10\n",
        "print('x baru=',x)\n",
        "\n",
        "print('pengurangan')\n",
        "x=10\n",
        "x=x-10\n",
        "print('x baru=',x)\n",
        "x=10\n",
        "x-=5\n",
        "print('x baru=',x)\n",
        "\n",
        "print('perkalian')\n",
        "x=10\n",
        "x=x*10\n",
        "print('x baru=',x)\n",
        "x=10\n",
        "x*=5\n",
        "print('x baru=',x)\n",
        "\n",
        "print('pembagian')\n",
        "x=10\n",
        "x=x/10\n",
        "print('x baru=',x)\n",
        "x=10\n",
        "x/=5\n",
        "print('x baru=',x)\n",
        "\n",
        "print('modulus')\n",
        "x=10\n",
        "x=x%10\n",
        "print('x baru=',x)\n",
        "x=10\n",
        "x%=5\n",
        "print('x baru=',x)\n",
        "\n",
        "print('pembagian flooring')\n",
        "x=10\n",
        "x=x//10\n",
        "print('x baru=',x)\n",
        "x=10\n",
        "x//=5\n",
        "print('x baru=',x)\n",
        "\n",
        "print('pemangkatan')\n",
        "x=10\n",
        "x=x**5\n",
        "print('x baru=',x)\n",
        "x=10\n",
        "x**=5\n",
        "print('x baru=',x)"
      ],
      "metadata": {
        "colab": {
          "base_uri": "https://localhost:8080/"
        },
        "id": "Zc00Tx1dwfjc",
        "outputId": "3ff90201-0f10-4824-d49d-914f42554087"
      },
      "execution_count": 4,
      "outputs": [
        {
          "output_type": "stream",
          "name": "stdout",
          "text": [
            "penjumlahan\n",
            "x baru= 20\n",
            "x baru= 20\n",
            "pengurangan\n",
            "x baru= 0\n",
            "x baru= 5\n",
            "perkalian\n",
            "x baru= 100\n",
            "x baru= 50\n",
            "pembagian\n",
            "x baru= 1.0\n",
            "x baru= 2.0\n",
            "modulus\n",
            "x baru= 0\n",
            "x baru= 0\n",
            "pembagian flooring\n",
            "x baru= 1\n",
            "x baru= 2\n",
            "pemangkatan\n",
            "x baru= 100000\n",
            "x baru= 100000\n"
          ]
        }
      ]
    },
    {
      "cell_type": "markdown",
      "source": [
        "Operator 3: Program Penerapan Operator Pembanding"
      ],
      "metadata": {
        "id": "sIMw59XMx4eR"
      }
    },
    {
      "cell_type": "code",
      "source": [
        "print(5==10)\n",
        "print(5!=10)\n",
        "print(5>10)\n",
        "print(5<10)\n",
        "print(5>=10)\n",
        "print(5<=10)"
      ],
      "metadata": {
        "colab": {
          "base_uri": "https://localhost:8080/"
        },
        "id": "i43gJAz1yBNq",
        "outputId": "0092d3d6-84a7-4ec1-9944-5f10b5eb4172"
      },
      "execution_count": 5,
      "outputs": [
        {
          "output_type": "stream",
          "name": "stdout",
          "text": [
            "False\n",
            "True\n",
            "False\n",
            "True\n",
            "False\n",
            "True\n"
          ]
        }
      ]
    },
    {
      "cell_type": "markdown",
      "source": [
        "Operator 4: Program Penerapan Operator Logika"
      ],
      "metadata": {
        "id": "7Z8zx6O6yaP1"
      }
    },
    {
      "cell_type": "code",
      "source": [
        "print(True and True)\n",
        "print(True or False)"
      ],
      "metadata": {
        "colab": {
          "base_uri": "https://localhost:8080/"
        },
        "id": "bLcNxQ9LytTY",
        "outputId": "bfa4c7d6-8e5b-4432-b316-307032409885"
      },
      "execution_count": 6,
      "outputs": [
        {
          "output_type": "stream",
          "name": "stdout",
          "text": [
            "True\n",
            "True\n"
          ]
        }
      ]
    },
    {
      "cell_type": "markdown",
      "source": [
        "Operator 5: Program Penerapan Operator Keanggotaan Membership"
      ],
      "metadata": {
        "id": "Bu52e2wmy48w"
      }
    },
    {
      "cell_type": "code",
      "source": [
        "a=(5,7,9,11,13,15)\n",
        "b=13\n",
        "print(b in a)\n",
        "\n",
        "a=(17,19,21,23,25)\n",
        "b=11\n",
        "print(b not in a)"
      ],
      "metadata": {
        "colab": {
          "base_uri": "https://localhost:8080/"
        },
        "id": "9DfZh0JgzLKh",
        "outputId": "94e5e90e-b585-4c97-bac0-1b2c5660c631"
      },
      "execution_count": 7,
      "outputs": [
        {
          "output_type": "stream",
          "name": "stdout",
          "text": [
            "True\n",
            "True\n"
          ]
        }
      ]
    },
    {
      "cell_type": "markdown",
      "source": [
        "Latihan 1: Variabel dengan Tipe Data yang Berbeda"
      ],
      "metadata": {
        "id": "KvJHtPD8zxO8"
      }
    },
    {
      "cell_type": "code",
      "source": [
        "a='saya mahasiswa matematika UAD'\n",
        "print(a)\n",
        "b=18\n",
        "print(b)\n",
        "c=7.2\n",
        "print(c)\n",
        "d=True\n",
        "print(d)\n",
        "e=1j+8\n",
        "print(e)"
      ],
      "metadata": {
        "colab": {
          "base_uri": "https://localhost:8080/"
        },
        "id": "rG1Lzt-i0Nd_",
        "outputId": "ef0f5f34-0d15-4887-f28d-59456fe04742"
      },
      "execution_count": 9,
      "outputs": [
        {
          "output_type": "stream",
          "name": "stdout",
          "text": [
            "saya mahasiswa matematika UAD\n",
            "18\n",
            "7.2\n",
            "True\n",
            "(8+1j)\n"
          ]
        }
      ]
    },
    {
      "cell_type": "markdown",
      "source": [
        "Latihan 2: Pengecekan Tipe Data Variabel"
      ],
      "metadata": {
        "id": "nHQOCFu10qUC"
      }
    },
    {
      "cell_type": "code",
      "source": [
        "print(type(a))\n",
        "print(type(b))\n",
        "print(type(c))\n",
        "print(type(d))\n",
        "print(type(e))"
      ],
      "metadata": {
        "colab": {
          "base_uri": "https://localhost:8080/"
        },
        "id": "OI7V18-T0wH0",
        "outputId": "b4824dcf-0303-4739-ea62-0ae0cec2a459"
      },
      "execution_count": 10,
      "outputs": [
        {
          "output_type": "stream",
          "name": "stdout",
          "text": [
            "<class 'str'>\n",
            "<class 'int'>\n",
            "<class 'float'>\n",
            "<class 'bool'>\n",
            "<class 'complex'>\n"
          ]
        }
      ]
    },
    {
      "cell_type": "markdown",
      "source": [
        "Latihan 3: Konversi Tipe Data"
      ],
      "metadata": {
        "id": "fdyYMNft0-xx"
      }
    },
    {
      "cell_type": "code",
      "source": [
        "print(int(c))\n",
        "print(int(d))\n",
        "\n",
        "print(float(b))\n",
        "print(float(d))\n",
        "\n",
        "print(str(b))\n",
        "print(str(c))\n",
        "print(str(d))\n",
        "\n",
        "print(bool(b))\n",
        "print(bool(c))\n",
        "\n",
        "print(complex(b))\n",
        "print(complex(c))\n",
        "print(complex(d))"
      ],
      "metadata": {
        "colab": {
          "base_uri": "https://localhost:8080/"
        },
        "id": "dhFw0R8b1azF",
        "outputId": "10657802-2c0b-4371-9a50-69b27e7e4e2e"
      },
      "execution_count": 12,
      "outputs": [
        {
          "output_type": "stream",
          "name": "stdout",
          "text": [
            "7\n",
            "1\n",
            "18.0\n",
            "1.0\n",
            "18\n",
            "7.2\n",
            "True\n",
            "True\n",
            "True\n",
            "(18+0j)\n",
            "(7.2+0j)\n",
            "(1+0j)\n"
          ]
        }
      ]
    }
  ]
}